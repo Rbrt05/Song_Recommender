{
 "cells": [
  {
   "cell_type": "markdown",
   "id": "554e9d19",
   "metadata": {},
   "source": [
    "- Create a function to search a given song in the Spotify API: \n",
    "    - search_song(). Take into account that sometimes Spotify's API will return several matches for the same song title (different artists, a different album of the same artist, version of the song,...etc). Then it will be nice to display a list of outputs to the user and let him/her select which is the right match. Once the desired song is located, the function should return the href/id/uri of the song to the code (not to the user).\n",
    "- Create a function \"get_audio_features(list_of_songs)\" to obtain the audio features of a given list of songs (the content of list_of_songs can be the href/id/uri).\n",
    "    - Then, use this function to create a Pandas Dataframe with the audio features of the list of songs. Hint: create a dictionary with the song's audio features as keys and an empty list as values. Then fill in the lists with the corresponding audio features of each song. Finally, create your data frame from the dictionary. Bear in mind the following: This API has a restriction on the number of requests per minute, therefore, consider launching the search using smaller groups of songs.\n",
    "- Once the previous function has been created, create another function \"add_audio_features(df, audio_features_df)\" to concat a given data frame with the data frame containing the audio features alongside any other desired info, and return the extended data frame.\n",
    "\n",
    "- Replace the old internal files of songs (hot and not hot) with the extended data frames with the audio features and save them into separate files on the disk."
   ]
  },
  {
   "cell_type": "code",
   "execution_count": 1,
   "id": "6114c65a",
   "metadata": {},
   "outputs": [
    {
     "ename": "ModuleNotFoundError",
     "evalue": "No module named 'config'",
     "output_type": "error",
     "traceback": [
      "\u001b[0;31m---------------------------------------------------------------------------\u001b[0m",
      "\u001b[0;31mModuleNotFoundError\u001b[0m                       Traceback (most recent call last)",
      "\u001b[0;32m/var/folders/gg/ydzntksx7jl3t92y3_bqsw140000gn/T/ipykernel_34524/3612939986.py\u001b[0m in \u001b[0;36m<module>\u001b[0;34m\u001b[0m\n\u001b[1;32m      5\u001b[0m \u001b[0;32mimport\u001b[0m \u001b[0mpprint\u001b[0m\u001b[0;34m\u001b[0m\u001b[0;34m\u001b[0m\u001b[0m\n\u001b[1;32m      6\u001b[0m \u001b[0msys\u001b[0m\u001b[0;34m.\u001b[0m\u001b[0mpath\u001b[0m\u001b[0;34m.\u001b[0m\u001b[0minsert\u001b[0m\u001b[0;34m(\u001b[0m\u001b[0;36m1\u001b[0m\u001b[0;34m,\u001b[0m \u001b[0;34m'/Users/robertkammerer/Ironhack/06_Week/Labs_Week_6/Spotify_Project/config.py'\u001b[0m\u001b[0;34m)\u001b[0m\u001b[0;34m\u001b[0m\u001b[0;34m\u001b[0m\u001b[0m\n\u001b[0;32m----> 7\u001b[0;31m \u001b[0;32mfrom\u001b[0m \u001b[0mconfig\u001b[0m \u001b[0;32mimport\u001b[0m \u001b[0;34m*\u001b[0m\u001b[0;34m\u001b[0m\u001b[0;34m\u001b[0m\u001b[0m\n\u001b[0m",
      "\u001b[0;31mModuleNotFoundError\u001b[0m: No module named 'config'"
     ]
    }
   ],
   "source": [
    "import pandas as pd\n",
    "import numpy as np\n",
    "\n",
    "import sys\n",
    "import pprint\n",
    "sys.path.insert(1, '/Users/robertkammerer/Ironhack/06_Week/Labs_Week_6/Spotify_Project/config.py')\n",
    "from config import *"
   ]
  },
  {
   "cell_type": "code",
   "execution_count": 2,
   "id": "a04be70c",
   "metadata": {},
   "outputs": [],
   "source": [
    "import spotipy\n",
    "import json\n",
    "from spotipy.oauth2 import SpotifyClientCredentials\n",
    "\n",
    "#Initialize SpotiPy with user credentias\n",
    "sp = spotipy.Spotify(auth_manager=SpotifyClientCredentials(client_id= client_id,\n",
    "                                                           client_secret= client_secret_id))"
   ]
  },
  {
   "cell_type": "markdown",
   "id": "c5580d0b",
   "metadata": {},
   "source": [
    "#### Create search_song()\n",
    "\n",
    "- print all matches\n",
    "- let the user choose which is the right one\n",
    "- return href/id/uri to the code\n"
   ]
  },
  {
   "cell_type": "code",
   "execution_count": 3,
   "id": "f5fd55d3",
   "metadata": {},
   "outputs": [
    {
     "name": "stdout",
     "output_type": "stream",
     "text": [
      "Enter your song: Know YOurself\n"
     ]
    }
   ],
   "source": [
    "# get user input\n",
    "song = input(\"Enter your song: \")"
   ]
  },
  {
   "cell_type": "markdown",
   "id": "fcfe1c0c",
   "metadata": {},
   "source": [
    "##### Testing\n",
    "sp.search(q='Know Yourself', limit=5)        \n",
    "type(results)\n",
    "results.keys()\n",
    "results['tracks'].keys()\n",
    "#pprint.pprint(len(results['tracks']['items'])) # 5 tracks\n",
    "#pprint.pprint(results['tracks']['items'][0]) # return the first\n",
    "print(results['tracks']['items'][0].keys()) # avaiable keys (relevant for now: artists, album, href, id, uri)"
   ]
  },
  {
   "cell_type": "code",
   "execution_count": 11,
   "id": "09e8d1a7",
   "metadata": {},
   "outputs": [],
   "source": [
    "def search_song(song_title, artist):\n",
    "    #list_of_id=[]\n",
    "\n",
    "    song_options = sp.search(q=\"track:\"+song_title+\" artist:\"+artist, limit = 5)\n",
    "    \n",
    "    for index, song in enumerate(song_options['tracks']['items']):\n",
    "        print(\"Option {}: The song title is: '{}' by:'{}'\".format(index,item['name'],item['artists'][0]['name']))\n",
    "        song_selection = int(input(\"Enter the song you would like to play: \")) # This will be an string 0, '0'\n",
    "        print(\"Here is the link to the song you would like to play: '{}' song name:'{}' by: {}\".format(item['external_urls']['spotify'], item['name'],item['artists'][song_selection]['name']))\n",
    "        return results['tracks']['items'][song_selection]['id']\n",
    "    \n",
    "    "
   ]
  },
  {
   "cell_type": "code",
   "execution_count": 5,
   "id": "a9461365",
   "metadata": {},
   "outputs": [],
   "source": [
    "# search for the song on spotify and print all matches\n",
    "\n",
    "def search_song():\n",
    "    \n",
    "    songname = input(\"Enter your song: \")\n",
    "    \n",
    "    playlist_features_list = [\"Track\",\"Artist\",\"Album\",\"ID\"]\n",
    "    playlist_df = pd.DataFrame(columns = playlist_features_list)\n",
    "    \n",
    "    results = sp.search(q=songname, limit=10)\n",
    "    songlist = results['tracks']['items']\n",
    "    \n",
    "    for track in songlist:\n",
    "        # Create empty dict\n",
    "        playlist_features = {}\n",
    "        # Get metadata\n",
    "        playlist_features[\"Track\"] = track['name']\n",
    "        playlist_features[\"Artist\"] = track[\"album\"][\"artists\"][0][\"name\"]\n",
    "        playlist_features[\"Album\"] = track[\"album\"][\"name\"]\n",
    "        playlist_features[\"ID\"] = track[\"id\"]\n",
    "        \n",
    "        # Concat the dfs\n",
    "        track_df = pd.DataFrame(playlist_features, index = [0])\n",
    "        playlist_df = pd.concat([playlist_df, track_df], ignore_index = True)\n",
    "        \n",
    "    return playlist_df"
   ]
  },
  {
   "cell_type": "code",
   "execution_count": 6,
   "id": "3d89d40f",
   "metadata": {},
   "outputs": [
    {
     "name": "stdout",
     "output_type": "stream",
     "text": [
      "Enter your song: Know Yourself\n"
     ]
    },
    {
     "data": {
      "text/html": [
       "<div>\n",
       "<style scoped>\n",
       "    .dataframe tbody tr th:only-of-type {\n",
       "        vertical-align: middle;\n",
       "    }\n",
       "\n",
       "    .dataframe tbody tr th {\n",
       "        vertical-align: top;\n",
       "    }\n",
       "\n",
       "    .dataframe thead th {\n",
       "        text-align: right;\n",
       "    }\n",
       "</style>\n",
       "<table border=\"1\" class=\"dataframe\">\n",
       "  <thead>\n",
       "    <tr style=\"text-align: right;\">\n",
       "      <th></th>\n",
       "      <th>Track</th>\n",
       "      <th>Artist</th>\n",
       "      <th>Album</th>\n",
       "      <th>ID</th>\n",
       "    </tr>\n",
       "  </thead>\n",
       "  <tbody>\n",
       "    <tr>\n",
       "      <th>0</th>\n",
       "      <td>Know Yourself</td>\n",
       "      <td>Drake</td>\n",
       "      <td>If You're Reading This It's Too Late</td>\n",
       "      <td>5InOp6q2vvx0fShv3bzFLZ</td>\n",
       "    </tr>\n",
       "    <tr>\n",
       "      <th>1</th>\n",
       "      <td>Know Yourself</td>\n",
       "      <td>Drake</td>\n",
       "      <td>If You're Reading This It's Too Late</td>\n",
       "      <td>1d9AWpbn0IF95ZlgsfqAKE</td>\n",
       "    </tr>\n",
       "    <tr>\n",
       "      <th>2</th>\n",
       "      <td>Know Yourself</td>\n",
       "      <td>DILLY DALLY</td>\n",
       "      <td>Know Yourself</td>\n",
       "      <td>7MKpkOzdHHSmhFDJCaW833</td>\n",
       "    </tr>\n",
       "    <tr>\n",
       "      <th>3</th>\n",
       "      <td>Don't Hurt Yourself (feat. Jack White)</td>\n",
       "      <td>Beyoncé</td>\n",
       "      <td>Lemonade</td>\n",
       "      <td>78eouBKVRyhbSzJwChr6QM</td>\n",
       "    </tr>\n",
       "    <tr>\n",
       "      <th>4</th>\n",
       "      <td>Know Yourself (Brow Chakra Meditation)</td>\n",
       "      <td>Londrelle</td>\n",
       "      <td>Self-Care Package</td>\n",
       "      <td>36XA9gLwIR8nnNbkP5yiLN</td>\n",
       "    </tr>\n",
       "    <tr>\n",
       "      <th>5</th>\n",
       "      <td>Don't Hurt Yourself - Homecoming Live</td>\n",
       "      <td>Beyoncé</td>\n",
       "      <td>HOMECOMING: THE LIVE ALBUM</td>\n",
       "      <td>2NbffhNltorifsuY5doB1l</td>\n",
       "    </tr>\n",
       "    <tr>\n",
       "      <th>6</th>\n",
       "      <td>Know Yourself</td>\n",
       "      <td>Bliss n Eso</td>\n",
       "      <td>The Sun</td>\n",
       "      <td>0F8qN0xI17146C4Wig5In2</td>\n",
       "    </tr>\n",
       "    <tr>\n",
       "      <th>7</th>\n",
       "      <td>Know Yourself</td>\n",
       "      <td>Jay Robinson</td>\n",
       "      <td>Know Yourself</td>\n",
       "      <td>1kuWUmxfaHRv0UEMyG1gtc</td>\n",
       "    </tr>\n",
       "    <tr>\n",
       "      <th>8</th>\n",
       "      <td>Now I Know You Could Never Be The One</td>\n",
       "      <td>The Meeting Places</td>\n",
       "      <td>Find Yourself Along The Way</td>\n",
       "      <td>5ilQ6xjKxxGDTrQQNDp6Tw</td>\n",
       "    </tr>\n",
       "    <tr>\n",
       "      <th>9</th>\n",
       "      <td>Know Yourself</td>\n",
       "      <td>87 Nights</td>\n",
       "      <td>Know Yourself</td>\n",
       "      <td>0VSikmlnMJ6MFTiuBBRKdX</td>\n",
       "    </tr>\n",
       "  </tbody>\n",
       "</table>\n",
       "</div>"
      ],
      "text/plain": [
       "                                    Track              Artist  \\\n",
       "0                           Know Yourself               Drake   \n",
       "1                           Know Yourself               Drake   \n",
       "2                           Know Yourself         DILLY DALLY   \n",
       "3  Don't Hurt Yourself (feat. Jack White)             Beyoncé   \n",
       "4  Know Yourself (Brow Chakra Meditation)           Londrelle   \n",
       "5   Don't Hurt Yourself - Homecoming Live             Beyoncé   \n",
       "6                           Know Yourself         Bliss n Eso   \n",
       "7                           Know Yourself        Jay Robinson   \n",
       "8   Now I Know You Could Never Be The One  The Meeting Places   \n",
       "9                           Know Yourself           87 Nights   \n",
       "\n",
       "                                  Album                      ID  \n",
       "0  If You're Reading This It's Too Late  5InOp6q2vvx0fShv3bzFLZ  \n",
       "1  If You're Reading This It's Too Late  1d9AWpbn0IF95ZlgsfqAKE  \n",
       "2                         Know Yourself  7MKpkOzdHHSmhFDJCaW833  \n",
       "3                              Lemonade  78eouBKVRyhbSzJwChr6QM  \n",
       "4                     Self-Care Package  36XA9gLwIR8nnNbkP5yiLN  \n",
       "5            HOMECOMING: THE LIVE ALBUM  2NbffhNltorifsuY5doB1l  \n",
       "6                               The Sun  0F8qN0xI17146C4Wig5In2  \n",
       "7                         Know Yourself  1kuWUmxfaHRv0UEMyG1gtc  \n",
       "8           Find Yourself Along The Way  5ilQ6xjKxxGDTrQQNDp6Tw  \n",
       "9                         Know Yourself  0VSikmlnMJ6MFTiuBBRKdX  "
      ]
     },
     "execution_count": 6,
     "metadata": {},
     "output_type": "execute_result"
    }
   ],
   "source": [
    "dict=search_song()\n",
    "dict"
   ]
  },
  {
   "cell_type": "code",
   "execution_count": 7,
   "id": "619eec8e",
   "metadata": {},
   "outputs": [],
   "source": [
    "# Query user \n",
    "\n",
    "def search_song_user():\n",
    "    df=search_song()\n",
    "    display(df.drop(\"ID\",axis=1))\n",
    "    correctsong = int(input(\"Enter the row number of the song you wanted: \"))\n",
    "    final_choice = df.iloc[correctsong,]\n",
    "    final_choice_intern = df.iloc[correctsong,3]\n",
    "    return final_choice_intern"
   ]
  },
  {
   "cell_type": "code",
   "execution_count": 8,
   "id": "ccf2afd9",
   "metadata": {},
   "outputs": [
    {
     "name": "stdout",
     "output_type": "stream",
     "text": [
      "Enter your song: Know Yourself\n"
     ]
    },
    {
     "data": {
      "text/html": [
       "<div>\n",
       "<style scoped>\n",
       "    .dataframe tbody tr th:only-of-type {\n",
       "        vertical-align: middle;\n",
       "    }\n",
       "\n",
       "    .dataframe tbody tr th {\n",
       "        vertical-align: top;\n",
       "    }\n",
       "\n",
       "    .dataframe thead th {\n",
       "        text-align: right;\n",
       "    }\n",
       "</style>\n",
       "<table border=\"1\" class=\"dataframe\">\n",
       "  <thead>\n",
       "    <tr style=\"text-align: right;\">\n",
       "      <th></th>\n",
       "      <th>Track</th>\n",
       "      <th>Artist</th>\n",
       "      <th>Album</th>\n",
       "    </tr>\n",
       "  </thead>\n",
       "  <tbody>\n",
       "    <tr>\n",
       "      <th>0</th>\n",
       "      <td>Know Yourself</td>\n",
       "      <td>Drake</td>\n",
       "      <td>If You're Reading This It's Too Late</td>\n",
       "    </tr>\n",
       "    <tr>\n",
       "      <th>1</th>\n",
       "      <td>Know Yourself</td>\n",
       "      <td>Drake</td>\n",
       "      <td>If You're Reading This It's Too Late</td>\n",
       "    </tr>\n",
       "    <tr>\n",
       "      <th>2</th>\n",
       "      <td>Know Yourself</td>\n",
       "      <td>DILLY DALLY</td>\n",
       "      <td>Know Yourself</td>\n",
       "    </tr>\n",
       "    <tr>\n",
       "      <th>3</th>\n",
       "      <td>Don't Hurt Yourself (feat. Jack White)</td>\n",
       "      <td>Beyoncé</td>\n",
       "      <td>Lemonade</td>\n",
       "    </tr>\n",
       "    <tr>\n",
       "      <th>4</th>\n",
       "      <td>Know Yourself (Brow Chakra Meditation)</td>\n",
       "      <td>Londrelle</td>\n",
       "      <td>Self-Care Package</td>\n",
       "    </tr>\n",
       "    <tr>\n",
       "      <th>5</th>\n",
       "      <td>Don't Hurt Yourself - Homecoming Live</td>\n",
       "      <td>Beyoncé</td>\n",
       "      <td>HOMECOMING: THE LIVE ALBUM</td>\n",
       "    </tr>\n",
       "    <tr>\n",
       "      <th>6</th>\n",
       "      <td>Know Yourself</td>\n",
       "      <td>Bliss n Eso</td>\n",
       "      <td>The Sun</td>\n",
       "    </tr>\n",
       "    <tr>\n",
       "      <th>7</th>\n",
       "      <td>Know Yourself</td>\n",
       "      <td>Jay Robinson</td>\n",
       "      <td>Know Yourself</td>\n",
       "    </tr>\n",
       "    <tr>\n",
       "      <th>8</th>\n",
       "      <td>Now I Know You Could Never Be The One</td>\n",
       "      <td>The Meeting Places</td>\n",
       "      <td>Find Yourself Along The Way</td>\n",
       "    </tr>\n",
       "    <tr>\n",
       "      <th>9</th>\n",
       "      <td>Know Yourself</td>\n",
       "      <td>87 Nights</td>\n",
       "      <td>Know Yourself</td>\n",
       "    </tr>\n",
       "  </tbody>\n",
       "</table>\n",
       "</div>"
      ],
      "text/plain": [
       "                                    Track              Artist  \\\n",
       "0                           Know Yourself               Drake   \n",
       "1                           Know Yourself               Drake   \n",
       "2                           Know Yourself         DILLY DALLY   \n",
       "3  Don't Hurt Yourself (feat. Jack White)             Beyoncé   \n",
       "4  Know Yourself (Brow Chakra Meditation)           Londrelle   \n",
       "5   Don't Hurt Yourself - Homecoming Live             Beyoncé   \n",
       "6                           Know Yourself         Bliss n Eso   \n",
       "7                           Know Yourself        Jay Robinson   \n",
       "8   Now I Know You Could Never Be The One  The Meeting Places   \n",
       "9                           Know Yourself           87 Nights   \n",
       "\n",
       "                                  Album  \n",
       "0  If You're Reading This It's Too Late  \n",
       "1  If You're Reading This It's Too Late  \n",
       "2                         Know Yourself  \n",
       "3                              Lemonade  \n",
       "4                     Self-Care Package  \n",
       "5            HOMECOMING: THE LIVE ALBUM  \n",
       "6                               The Sun  \n",
       "7                         Know Yourself  \n",
       "8           Find Yourself Along The Way  \n",
       "9                         Know Yourself  "
      ]
     },
     "metadata": {},
     "output_type": "display_data"
    },
    {
     "name": "stdout",
     "output_type": "stream",
     "text": [
      "Enter the row number of the song you wanted: 0\n"
     ]
    }
   ],
   "source": [
    "song_id= search_song_user()"
   ]
  },
  {
   "cell_type": "code",
   "execution_count": null,
   "id": "4f0d4e77",
   "metadata": {},
   "outputs": [],
   "source": [
    "song_id"
   ]
  },
  {
   "cell_type": "markdown",
   "id": "e9d482e1",
   "metadata": {},
   "source": [
    "#### Create get_audio_features(list_of_songs)\n",
    "\n",
    "Hint: create a dictionary with the song's audio features as keys and an empty list as values. Then fill in the lists with the corresponding audio features of each song. Finally, create your data frame from the dictionary. Bear in mind the following: This API has a restriction on the number of requests per minute, therefore, consider launching the search using smaller groups of songs."
   ]
  },
  {
   "cell_type": "code",
   "execution_count": 4,
   "id": "5c35c234",
   "metadata": {},
   "outputs": [],
   "source": [
    "def get_audio_features(list_of_songs, list_of_artists):    \n",
    "    \n",
    "    #step1\n",
    "\n",
    "    playlist_features_list = [\"track\",\"artist\",\"album\", \"id\",\"danceability\",\"energy\",\"key\",\"loudness\",\"mode\", \"speechiness\",\"instrumentalness\",\"liveness\",\"valence\",\"tempo\", \"duration_ms\",\"time_signature\"]\n",
    "    playlist_df = pd.DataFrame(columns = playlist_features_list)\n",
    "    \n",
    "    #step2\n",
    "    \n",
    "    for name, artist in zip(list_of_songs, list_of_artists):\n",
    "        results = sp.search(q=\"track:\"+str(name)+\" artist:\"+str(artist), limit=1)\n",
    "        playlist = results['tracks']['items']\n",
    "    \n",
    "        for track in playlist:\n",
    "            # Create empty dict\n",
    "            playlist_features = {}\n",
    "            # Get metadata\n",
    "            playlist_features[\"track\"] = str(track['name'])\n",
    "            playlist_features[\"artist\"] = track[\"album\"][\"artists\"][0][\"name\"]\n",
    "            playlist_features[\"album\"] = track[\"album\"][\"name\"]\n",
    "            playlist_features[\"id\"] = track[\"id\"]\n",
    "            playlist_features[\"id\"] = track[\"id\"]\n",
    "\n",
    "            # Get audio features\n",
    "            audio_features = sp.audio_features(track[\"id\"])[0]\n",
    "            for feature in playlist_features_list[4:]:\n",
    "                playlist_features[feature] = audio_features[feature]\n",
    "\n",
    "            # Concat the dfs\n",
    "            track_df = pd.DataFrame(playlist_features, index = [0])\n",
    "            playlist_df = pd.concat([playlist_df, track_df], ignore_index = True)\n",
    "\n",
    "            #Step 3\n",
    "\n",
    "    return playlist_df"
   ]
  },
  {
   "cell_type": "code",
   "execution_count": 146,
   "id": "43609f6e",
   "metadata": {},
   "outputs": [
    {
     "data": {
      "text/plain": [
       "['Marling', 'Kindergeld', 'Know Yourself', 'Faded', 'Infrared']"
      ]
     },
     "execution_count": 146,
     "metadata": {},
     "output_type": "execute_result"
    }
   ],
   "source": [
    "## SMALL TEST\n",
    "\n",
    "list_songs = [\"Marling\", \"Kindergeld\", \"Know Yourself\", \"Faded\", \"Infrared\"]\n",
    "list_artists = [\"Fid Mella\", \"Karate Andi\", \"Drake\", \"Berner\", \"Game\"]\n",
    "list_songs\n"
   ]
  },
  {
   "cell_type": "code",
   "execution_count": 147,
   "id": "12e99c93",
   "metadata": {},
   "outputs": [
    {
     "data": {
      "text/html": [
       "<div>\n",
       "<style scoped>\n",
       "    .dataframe tbody tr th:only-of-type {\n",
       "        vertical-align: middle;\n",
       "    }\n",
       "\n",
       "    .dataframe tbody tr th {\n",
       "        vertical-align: top;\n",
       "    }\n",
       "\n",
       "    .dataframe thead th {\n",
       "        text-align: right;\n",
       "    }\n",
       "</style>\n",
       "<table border=\"1\" class=\"dataframe\">\n",
       "  <thead>\n",
       "    <tr style=\"text-align: right;\">\n",
       "      <th></th>\n",
       "      <th>track</th>\n",
       "      <th>artist</th>\n",
       "      <th>album</th>\n",
       "      <th>id</th>\n",
       "      <th>danceability</th>\n",
       "      <th>energy</th>\n",
       "      <th>key</th>\n",
       "      <th>loudness</th>\n",
       "      <th>mode</th>\n",
       "      <th>speechiness</th>\n",
       "      <th>instrumentalness</th>\n",
       "      <th>liveness</th>\n",
       "      <th>valence</th>\n",
       "      <th>tempo</th>\n",
       "      <th>duration_ms</th>\n",
       "      <th>time_signature</th>\n",
       "    </tr>\n",
       "  </thead>\n",
       "  <tbody>\n",
       "    <tr>\n",
       "      <th>0</th>\n",
       "      <td>Marling</td>\n",
       "      <td>Fid Mella</td>\n",
       "      <td>Tatas Plottn</td>\n",
       "      <td>2UUkER82wfDAd74wOi3N0m</td>\n",
       "      <td>0.770</td>\n",
       "      <td>0.527</td>\n",
       "      <td>11</td>\n",
       "      <td>-6.808</td>\n",
       "      <td>0</td>\n",
       "      <td>0.0572</td>\n",
       "      <td>0.234000</td>\n",
       "      <td>0.1250</td>\n",
       "      <td>0.687</td>\n",
       "      <td>83.564</td>\n",
       "      <td>127073</td>\n",
       "      <td>4</td>\n",
       "    </tr>\n",
       "    <tr>\n",
       "      <th>1</th>\n",
       "      <td>Kindergeld</td>\n",
       "      <td>Karate Andi</td>\n",
       "      <td>Pilsator Platin</td>\n",
       "      <td>5yQe8UCxbWLQoHgf356LiH</td>\n",
       "      <td>0.754</td>\n",
       "      <td>0.772</td>\n",
       "      <td>5</td>\n",
       "      <td>-5.918</td>\n",
       "      <td>0</td>\n",
       "      <td>0.3240</td>\n",
       "      <td>0.000002</td>\n",
       "      <td>0.0663</td>\n",
       "      <td>0.897</td>\n",
       "      <td>89.851</td>\n",
       "      <td>141880</td>\n",
       "      <td>4</td>\n",
       "    </tr>\n",
       "    <tr>\n",
       "      <th>2</th>\n",
       "      <td>Know Yourself</td>\n",
       "      <td>Drake</td>\n",
       "      <td>If You're Reading This It's Too Late</td>\n",
       "      <td>5InOp6q2vvx0fShv3bzFLZ</td>\n",
       "      <td>0.720</td>\n",
       "      <td>0.412</td>\n",
       "      <td>11</td>\n",
       "      <td>-8.687</td>\n",
       "      <td>0</td>\n",
       "      <td>0.2230</td>\n",
       "      <td>0.000000</td>\n",
       "      <td>0.3420</td>\n",
       "      <td>0.179</td>\n",
       "      <td>114.408</td>\n",
       "      <td>275840</td>\n",
       "      <td>4</td>\n",
       "    </tr>\n",
       "    <tr>\n",
       "      <th>3</th>\n",
       "      <td>Faded</td>\n",
       "      <td>Berner</td>\n",
       "      <td>Prohibition</td>\n",
       "      <td>44WG43lprS0ZO3zQEBBOEc</td>\n",
       "      <td>0.527</td>\n",
       "      <td>0.750</td>\n",
       "      <td>1</td>\n",
       "      <td>-6.247</td>\n",
       "      <td>1</td>\n",
       "      <td>0.3000</td>\n",
       "      <td>0.000000</td>\n",
       "      <td>0.1700</td>\n",
       "      <td>0.160</td>\n",
       "      <td>89.106</td>\n",
       "      <td>273250</td>\n",
       "      <td>4</td>\n",
       "    </tr>\n",
       "  </tbody>\n",
       "</table>\n",
       "</div>"
      ],
      "text/plain": [
       "           track       artist                                 album  \\\n",
       "0        Marling    Fid Mella                          Tatas Plottn   \n",
       "1     Kindergeld  Karate Andi                       Pilsator Platin   \n",
       "2  Know Yourself        Drake  If You're Reading This It's Too Late   \n",
       "3          Faded       Berner                           Prohibition   \n",
       "\n",
       "                       id  danceability  energy key  loudness mode  \\\n",
       "0  2UUkER82wfDAd74wOi3N0m         0.770   0.527  11    -6.808    0   \n",
       "1  5yQe8UCxbWLQoHgf356LiH         0.754   0.772   5    -5.918    0   \n",
       "2  5InOp6q2vvx0fShv3bzFLZ         0.720   0.412  11    -8.687    0   \n",
       "3  44WG43lprS0ZO3zQEBBOEc         0.527   0.750   1    -6.247    1   \n",
       "\n",
       "   speechiness  instrumentalness  liveness  valence    tempo duration_ms  \\\n",
       "0       0.0572          0.234000    0.1250    0.687   83.564      127073   \n",
       "1       0.3240          0.000002    0.0663    0.897   89.851      141880   \n",
       "2       0.2230          0.000000    0.3420    0.179  114.408      275840   \n",
       "3       0.3000          0.000000    0.1700    0.160   89.106      273250   \n",
       "\n",
       "  time_signature  \n",
       "0              4  \n",
       "1              4  \n",
       "2              4  \n",
       "3              4  "
      ]
     },
     "execution_count": 147,
     "metadata": {},
     "output_type": "execute_result"
    }
   ],
   "source": [
    "get_audio_features(list_songs, list_artists)"
   ]
  },
  {
   "cell_type": "markdown",
   "id": "f510c489",
   "metadata": {},
   "source": [
    "### Get not hot songs"
   ]
  },
  {
   "cell_type": "code",
   "execution_count": 8,
   "id": "ed708fc1",
   "metadata": {},
   "outputs": [
    {
     "data": {
      "text/html": [
       "<div>\n",
       "<style scoped>\n",
       "    .dataframe tbody tr th:only-of-type {\n",
       "        vertical-align: middle;\n",
       "    }\n",
       "\n",
       "    .dataframe tbody tr th {\n",
       "        vertical-align: top;\n",
       "    }\n",
       "\n",
       "    .dataframe thead th {\n",
       "        text-align: right;\n",
       "    }\n",
       "</style>\n",
       "<table border=\"1\" class=\"dataframe\">\n",
       "  <thead>\n",
       "    <tr style=\"text-align: right;\">\n",
       "      <th></th>\n",
       "      <th>Artist</th>\n",
       "      <th>Song</th>\n",
       "    </tr>\n",
       "  </thead>\n",
       "  <tbody>\n",
       "    <tr>\n",
       "      <th>0</th>\n",
       "      <td>Backstreet Boys</td>\n",
       "      <td>Everybody (Backstreets Back)</td>\n",
       "    </tr>\n",
       "    <tr>\n",
       "      <th>1</th>\n",
       "      <td>MC Hammer</td>\n",
       "      <td>U Can't Touch This</td>\n",
       "    </tr>\n",
       "    <tr>\n",
       "      <th>2</th>\n",
       "      <td>Michael Jackson</td>\n",
       "      <td>Black Or White</td>\n",
       "    </tr>\n",
       "    <tr>\n",
       "      <th>3</th>\n",
       "      <td>Coolio</td>\n",
       "      <td>Gangsta's Paradise</td>\n",
       "    </tr>\n",
       "    <tr>\n",
       "      <th>4</th>\n",
       "      <td>Hanson</td>\n",
       "      <td>Mmmbop</td>\n",
       "    </tr>\n",
       "    <tr>\n",
       "      <th>...</th>\n",
       "      <td>...</td>\n",
       "      <td>...</td>\n",
       "    </tr>\n",
       "    <tr>\n",
       "      <th>3504</th>\n",
       "      <td>Wolfgang Amadeus Mozart</td>\n",
       "      <td>Fantasia in D Minor, K. 397</td>\n",
       "    </tr>\n",
       "    <tr>\n",
       "      <th>3505</th>\n",
       "      <td>Various Artists</td>\n",
       "      <td>Delibes: Waltz from Coppélia</td>\n",
       "    </tr>\n",
       "    <tr>\n",
       "      <th>3506</th>\n",
       "      <td>Nikolai Rimsky-Korsakov</td>\n",
       "      <td>Scheherazade: The Tale of the Kalendar Prince</td>\n",
       "    </tr>\n",
       "    <tr>\n",
       "      <th>3507</th>\n",
       "      <td>Hector Berlioz</td>\n",
       "      <td>Symphonie fantastique: V. Dream of a Witches' ...</td>\n",
       "    </tr>\n",
       "    <tr>\n",
       "      <th>3508</th>\n",
       "      <td>Sergei Prokofiev</td>\n",
       "      <td>Romeo and Juliet, Op. 64 / Act 1: Dance Of The...</td>\n",
       "    </tr>\n",
       "  </tbody>\n",
       "</table>\n",
       "<p>3509 rows × 2 columns</p>\n",
       "</div>"
      ],
      "text/plain": [
       "                       Artist  \\\n",
       "0             Backstreet Boys   \n",
       "1                   MC Hammer   \n",
       "2             Michael Jackson   \n",
       "3                      Coolio   \n",
       "4                      Hanson   \n",
       "...                       ...   \n",
       "3504  Wolfgang Amadeus Mozart   \n",
       "3505          Various Artists   \n",
       "3506  Nikolai Rimsky-Korsakov   \n",
       "3507           Hector Berlioz   \n",
       "3508         Sergei Prokofiev   \n",
       "\n",
       "                                                   Song  \n",
       "0                          Everybody (Backstreets Back)  \n",
       "1                                    U Can't Touch This  \n",
       "2                                        Black Or White  \n",
       "3                                    Gangsta's Paradise  \n",
       "4                                                Mmmbop  \n",
       "...                                                 ...  \n",
       "3504                        Fantasia in D Minor, K. 397  \n",
       "3505                       Delibes: Waltz from Coppélia  \n",
       "3506      Scheherazade: The Tale of the Kalendar Prince  \n",
       "3507  Symphonie fantastique: V. Dream of a Witches' ...  \n",
       "3508  Romeo and Juliet, Op. 64 / Act 1: Dance Of The...  \n",
       "\n",
       "[3509 rows x 2 columns]"
      ]
     },
     "metadata": {},
     "output_type": "display_data"
    },
    {
     "name": "stdout",
     "output_type": "stream",
     "text": [
      "(3509, 2)\n"
     ]
    }
   ],
   "source": [
    "# get not hot\n",
    "\n",
    "nohit = pd.read_csv(\"/Users/robertkammerer/Ironhack/06_Week/Labs_Week_6/Spotify_Project/Data/nohit_final2.csv\")\n",
    "display(nohit)\n",
    "print(nohit.shape)\n",
    "\n",
    "artist_listnot1 = nohit['Artist'][0:1000]\n",
    "song_listnot1 = nohit['Song'][0:1000]\n",
    "artist_listnot2 = nohit['Artist'][1001:2000]\n",
    "song_listnot2 = nohit['Song'][1001:2000]\n",
    "artist_listnot3 = nohit['Artist'][2001:3000]\n",
    "song_listnot3 = nohit['Song'][2001:3000]\n",
    "artist_listnot4 = nohit['Artist'][3001:4000]\n",
    "song_listnot4 = nohit['Song'][3001:4000]"
   ]
  },
  {
   "cell_type": "code",
   "execution_count": 6,
   "id": "328141e1",
   "metadata": {},
   "outputs": [],
   "source": [
    "# get features not hot\n",
    "nothot1 = get_audio_features(song_listnot1, artist_listnot1)"
   ]
  },
  {
   "cell_type": "code",
   "execution_count": 7,
   "id": "74676719",
   "metadata": {},
   "outputs": [],
   "source": [
    "nothot2 = get_audio_features(song_listnot2, artist_listnot2)"
   ]
  },
  {
   "cell_type": "code",
   "execution_count": 10,
   "id": "2be14093",
   "metadata": {},
   "outputs": [],
   "source": [
    "nothot3 = get_audio_features(song_listnot3, artist_listnot3)"
   ]
  },
  {
   "cell_type": "code",
   "execution_count": 14,
   "id": "90dba105",
   "metadata": {},
   "outputs": [],
   "source": [
    "nothot4 = get_audio_features(song_listnot4, artist_listnot4)"
   ]
  },
  {
   "cell_type": "code",
   "execution_count": 15,
   "id": "ec24ceb9",
   "metadata": {},
   "outputs": [
    {
     "data": {
      "text/plain": [
       "(467, 16)"
      ]
     },
     "execution_count": 15,
     "metadata": {},
     "output_type": "execute_result"
    }
   ],
   "source": [
    "nothot4.shape"
   ]
  },
  {
   "cell_type": "code",
   "execution_count": 138,
   "id": "7ec5547f",
   "metadata": {},
   "outputs": [
    {
     "data": {
      "text/plain": [
       "(2509, 16)"
      ]
     },
     "execution_count": 138,
     "metadata": {},
     "output_type": "execute_result"
    }
   ],
   "source": [
    "# concat notnot\n",
    "nothotfeatures = pd.concat([nothot1, nothot2, nothot3],axis=0)\n",
    "\n",
    "nothotfeatures.head()\n",
    "nothotfeatures.shape"
   ]
  },
  {
   "cell_type": "code",
   "execution_count": 139,
   "id": "9f3a472e",
   "metadata": {},
   "outputs": [],
   "source": [
    "# Export not hot features\n",
    "nothotfeatures.to_csv(\"/Users/robertkammerer/Ironhack/06_Week/Labs_Week_6/Spotify_Project/Data/nothotfeatures.csv\", index=False)"
   ]
  },
  {
   "cell_type": "code",
   "execution_count": 16,
   "id": "a053fcbe",
   "metadata": {},
   "outputs": [
    {
     "data": {
      "text/plain": [
       "(3109, 16)"
      ]
     },
     "execution_count": 16,
     "metadata": {},
     "output_type": "execute_result"
    }
   ],
   "source": [
    "nothotfeatures2 = pd.concat([nothot1, nothot2, nothot3, nothot4],axis=0)\n",
    "\n",
    "nothotfeatures2.head()\n",
    "nothotfeatures2.shape"
   ]
  },
  {
   "cell_type": "code",
   "execution_count": 17,
   "id": "6cf2cd80",
   "metadata": {},
   "outputs": [],
   "source": [
    "nothotfeatures2.to_csv(\"/Users/robertkammerer/Ironhack/06_Week/Labs_Week_6/Spotify_Project/Data/nothotfeatures2.csv\", index=False)"
   ]
  },
  {
   "cell_type": "markdown",
   "id": "80f32680",
   "metadata": {},
   "source": [
    "### GET HOT SONGS"
   ]
  },
  {
   "cell_type": "code",
   "execution_count": 27,
   "id": "6eddf621",
   "metadata": {},
   "outputs": [],
   "source": [
    "# get hot 100\n",
    "hit100 = pd.read_csv(\"/Users/robertkammerer/Ironhack/06_Week/Labs_Week_6/Spotify_Project/Data/hot100.csv\")\n",
    "artist_listhot = hit100['Artist'].str.split(\" X | & | Featuring |, |: |,\",expand=True)[0]\n",
    "song_listhot = hit100['Song']"
   ]
  },
  {
   "cell_type": "code",
   "execution_count": 29,
   "id": "875c8751",
   "metadata": {},
   "outputs": [],
   "source": [
    "# get features for hot\n",
    "hot100features=get_audio_features(song_listhot, artist_listhot)"
   ]
  },
  {
   "cell_type": "code",
   "execution_count": 31,
   "id": "3e114849",
   "metadata": {},
   "outputs": [],
   "source": [
    "# Export hot100 features\n",
    "hot100features.to_csv(\"/Users/robertkammerer/Ironhack/06_Week/Labs_Week_6/Spotify_Project/Data/hot100features.csv\", index=False)"
   ]
  },
  {
   "cell_type": "markdown",
   "id": "457a0f44",
   "metadata": {},
   "source": [
    "### Functions from class"
   ]
  },
  {
   "cell_type": "markdown",
   "id": "a9598100",
   "metadata": {},
   "source": [
    "import math\n",
    "import time\n",
    "\n",
    "chunks = math.ceil(df.shape[0]/1000) # math.ceil rounds the number to the upper integer\n",
    "\n",
    "#2432/1000 -> 2.432 -> 3\n",
    "\n",
    "for chunk in range(chunks): # chunks = 3-> range -> 0,1,2 df.iloc[i:j,0]\n",
    "\n",
    "    song_ids = [] # Get the song_ids for df.iloc[minimum_index:maximum_index,]\n",
    "    i = 1000*chunk # minimum_index\n",
    "    if ( chunk != chunks-1 ): # chunks - 1 = 2\n",
    "        j = 1000*(chunk+1) # maximum_index\n",
    "    else:\n",
    "        j = df.shape[0]+1\n",
    "    for index in range(i,j): # [0,999],[1000,1999],[2000:]\n",
    "        \n",
    "        print(\"Searching for song {} of artist {}\".format(df.iloc[index,0],df.iloc[index,1]))\n",
    "        songs = sp.search(q=\"track:\"+df.iloc[index,0]+\"artist:\"+df.iloc[index,1],limit=5) # This returns None if the song is not found\n",
    "        if (songs != None): \n",
    "            artists = [song['tracks']['items'][k]['artists'] for k in range(len(songs))]\n",
    "            artist_loc = artists.index(df.iloc[index,1]) if df.iloc[index,1] in artists else -1\n",
    "            if ( artist_loc != -1 ):\n",
    "                song_ids.append(song['tracks']['items'][artist_loc]['id'])\n",
    "            else:\n",
    "                song_ids.append(\"\")\n",
    "        else:\n",
    "            song_ids.append(\"\")            \n",
    "\n",
    "    black = {'danceability': \"Null\",\n",
    "          ...}\n",
    "\n",
    "    print()\n",
    "    print(\"Getting the audio features of chunk {}:\".format(chunk))\n",
    "    features = [ sp.get_audio_features([song_id])[0] if song_id != \"\" else black for song_id in song_ids ]\n",
    "\n",
    "    df_audio_features = pd.DataFrame(features)\n",
    "\n",
    "    name = \"chunk_\"+str(chunk)+\".csv\"\n",
    "    df_audio_features.to_csv(name, index = False)\n",
    "    time.sleep(10)\n",
    "    print()\n",
    "    print(\"Waiting 10 seconds before going on...\")\n",
    "\n",
    "For every chunk we're going to do 1000(sp.search) + 1000(sp.get_audio_features) = 2000 API calls \n",
    "\n",
    "import glob\n",
    "\n",
    "files = glob.glob(\"chunk_*csv\")\n",
    "files.sort()\n",
    "\n",
    "data = pd.DataFrame()\n",
    "for file in files:\n",
    "    df = pd.read_csv(file)\n",
    "    data = pd.concat([data,df],axis=0,ignore_index = True)\n",
    "\n",
    "data = data.reset_index()"
   ]
  },
  {
   "cell_type": "markdown",
   "id": "9049fa2a",
   "metadata": {},
   "source": [
    "\n",
    "\n",
    "song_ids = []\n",
    "    for index in range(df.shape[0]):\n",
    "        #songs = sp.search(q=df.iloc[index,0], limit=5)#search for the song by its title\n",
    "        songs = sp.search(q=\"track:\"+df.iloc[index,0]+\"artist:\"+df.iloc[index,1],limit=5) # This returns None if the song is not found\n",
    "        if (songs != None): \n",
    "            artists = [song['tracks']['items'][i]['artists'] for i in range(len(songs))]\n",
    "            artist_loc = artists.index(df.iloc[index,1]) if df.iloc[index,1] in artists else -1\n",
    "            if ( artist_loc != -1 ):\n",
    "                song_ids.append(song['tracks']['items'][artist_loc]['id'])\n",
    "            else:\n",
    "                song_ids.append(\"\")\n",
    "        else:\n",
    "            song_ids.append(\"\")            \n",
    "\n",
    "black = {'danceability': \"Null\",\n",
    "          ...}\n",
    "\n",
    "features = [ sp.get_audio_features([song_id])[0] if song_id != \"\" else black for song_id in song_ids ]\n",
    "\n",
    "df_audio_features = pd.DataFrame(features)"
   ]
  },
  {
   "cell_type": "markdown",
   "id": "3c3c7b2a",
   "metadata": {},
   "source": [
    "def get_audio_features(list_of_songs):    \n",
    "    \n",
    "    #step1\n",
    "\n",
    "    playlist_features_list = [\"track\",\"artist\",\"album\", \"id\",\"danceability\",\"energy\",\"key\",\"loudness\",\"mode\", \"speechiness\",\"instrumentalness\",\"liveness\",\"valence\",\"tempo\", \"duration_ms\",\"time_signature\"]\n",
    "    playlist_df = pd.DataFrame(columns = playlist_features_list)\n",
    "    \n",
    "    #step2\n",
    "    \n",
    "    for name in list_of_songs:\n",
    "        results = sp.search(q=name, limit=1)\n",
    "        playlist = results['tracks']['items']\n",
    "    \n",
    "    for track in playlist:\n",
    "        # Create empty dict\n",
    "        playlist_features = {}\n",
    "        # Get metadata\n",
    "        playlist_features[\"track\"] = track['name']\n",
    "        playlist_features[\"artist\"] = track[\"album\"][\"artists\"][0][\"name\"]\n",
    "        playlist_features[\"album\"] = track[\"album\"][\"name\"]\n",
    "        playlist_features[\"id\"] = track[\"id\"]\n",
    "        \n",
    "        # Get audio features\n",
    "        audio_features = sp.audio_features(track[\"id\"])[0]\n",
    "        for feature in playlist_features_list[4:]:\n",
    "            playlist_features[feature] = audio_features[feature]\n",
    "        \n",
    "        # Concat the dfs\n",
    "        track_df = pd.DataFrame(playlist_features, index = [0])\n",
    "        playlist_df = pd.concat([playlist_df, track_df], ignore_index = True)\n",
    "\n",
    "        #Step 3\n",
    "\n",
    "        return playlist_df"
   ]
  }
 ],
 "metadata": {
  "kernelspec": {
   "display_name": "Python 3 (ipykernel)",
   "language": "python",
   "name": "python3"
  },
  "language_info": {
   "codemirror_mode": {
    "name": "ipython",
    "version": 3
   },
   "file_extension": ".py",
   "mimetype": "text/x-python",
   "name": "python",
   "nbconvert_exporter": "python",
   "pygments_lexer": "ipython3",
   "version": "3.9.7"
  }
 },
 "nbformat": 4,
 "nbformat_minor": 5
}
